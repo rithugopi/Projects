{
 "cells": [
  {
   "cell_type": "code",
   "execution_count": 1,
   "metadata": {},
   "outputs": [],
   "source": [
    "import pickle\n",
    "# import pandas as pd\n",
    "\n",
    "def get_cached_data(filename):\n",
    "    unpickle = open(filename, 'rb')\n",
    "    temp = pickle.load(unpickle)\n",
    "    unpickle.close()\n",
    "    return temp"
   ]
  },
  {
   "cell_type": "code",
   "execution_count": 2,
   "metadata": {},
   "outputs": [],
   "source": [
    "df = get_cached_data('data-frame.pkl')\n",
    "lda_model = get_cached_data('lda_model.pkl')\n",
    "dictionary = get_cached_data('dict.pkl')"
   ]
  },
  {
   "cell_type": "code",
   "execution_count": 3,
   "metadata": {},
   "outputs": [],
   "source": [
    "def predict(words):\n",
    "    other_texts = [words]\n",
    "    print(other_texts)\n",
    "    other_corpus = [dictionary.doc2bow(text) for text in other_texts]\n",
    "    unseen_doc = other_corpus[0]\n",
    "    vector = lda_model[unseen_doc]\n",
    "    return vector"
   ]
  },
  {
   "cell_type": "code",
   "execution_count": 4,
   "metadata": {},
   "outputs": [],
   "source": [
    "def resume(wordslist):\n",
    "    temp = list()\n",
    "    for word in wordslist:\n",
    "        temp.append(word[0].upper() + word[1:].lower())\n",
    "    vec = predict(temp)\n",
    "    topic = max(vec,key=lambda item:item[1])[0]\n",
    "    filename = list()\n",
    "    sorted_df = df.sort_values(topic, axis=0, ascending=False)\n",
    "    filename.append(sorted_df.iloc[0]['filename'])\n",
    "    for i in range(1, 10):\n",
    "        if sorted_df.iloc[i][topic] >= 0.6:\n",
    "            filename.append(sorted_df.iloc[i]['filename'])\n",
    "    return filename, topic"
   ]
  },
  {
   "cell_type": "code",
   "execution_count": 5,
   "metadata": {},
   "outputs": [
    {
     "name": "stdout",
     "output_type": "stream",
     "text": [
      "[['Android', 'Django', 'Web', 'Css']]\n"
     ]
    }
   ],
   "source": [
    "files, topic = resume([\"android\", \"Django\", \"web\", \"css\"])"
   ]
  },
  {
   "cell_type": "code",
   "execution_count": 6,
   "metadata": {},
   "outputs": [
    {
     "data": {
      "text/plain": [
       "[\"Siddhesh's Resume.docx\", 'Resume-JPMC.docx']"
      ]
     },
     "execution_count": 6,
     "metadata": {},
     "output_type": "execute_result"
    }
   ],
   "source": [
    "files\n"
   ]
  },
  {
   "cell_type": "code",
   "execution_count": null,
   "metadata": {},
   "outputs": [],
   "source": []
  }
 ],
 "metadata": {
  "kernelspec": {
   "display_name": "Python 3",
   "language": "python",
   "name": "python3"
  },
  "language_info": {
   "codemirror_mode": {
    "name": "ipython",
    "version": 3
   },
   "file_extension": ".py",
   "mimetype": "text/x-python",
   "name": "python",
   "nbconvert_exporter": "python",
   "pygments_lexer": "ipython3",
   "version": "3.7.4"
  }
 },
 "nbformat": 4,
 "nbformat_minor": 2
}
